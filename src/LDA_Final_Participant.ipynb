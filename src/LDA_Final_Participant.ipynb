{
 "cells": [
  {
   "cell_type": "code",
   "execution_count": 1,
   "metadata": {},
   "outputs": [],
   "source": [
    "import scipy.io as sio\n",
    "from scipy import stats\n",
    "from sklearn import svm\n",
    "import numpy as np\n",
    "from sklearn.model_selection import KFold, cross_val_score\n",
    "from sklearn.model_selection import train_test_split\n",
    "from sklearn import metrics\n",
    "import os, fnmatch\n",
    "import pandas as pd\n",
    "from sklearn.model_selection import cross_val_predict\n",
    "from sklearn.model_selection import cross_val_score\n",
    "\n",
    "from sklearn.discriminant_analysis import LinearDiscriminantAnalysis\n",
    "\n"
   ]
  },
  {
   "cell_type": "code",
   "execution_count": 2,
   "metadata": {},
   "outputs": [],
   "source": [
    "'''function returns cross validated score and the predicted values by the classifier'''\n",
    "def get_cross_val_score(X_train, Y_train, fold_val):\n",
    "    \n",
    "    #Fisher Discriminant Analysis (LDA) with default shrinkage (it had to be stated explicitly)\n",
    "    clf = LinearDiscriminantAnalysis(solver='eigen', shrinkage='auto')\n",
    "    \n",
    "    return cross_val_score(clf, X_train, np.squeeze(Y_train), cv = fold_val), cross_val_predict(clf, X_train, np.squeeze(Y_train), cv = fold_val)\n",
    "\n",
    "'''function to load all the files and divide them into the data for each task as well as divide \n",
    "them into the time bins; 50 bins for the perception and 32 bins for the memory task (stated in files)'''\n",
    "def load_time_sliced_data(file_name):\n",
    "    data = sio.loadmat(file_name)\n",
    "    X_data_M = data['dataMatM']\n",
    "    Y_data_M = data['simVecM']\n",
    "    X_data_P = data['dataMatP']\n",
    "    Y_data_P = data['simVecP']\n",
    "    N_Times_M = data['NtimePointsM'][0,0]\n",
    "    N_Times_P = data['NtimePointsP'][0,0]\n",
    "    \n",
    "    X_data_P = np.array_split(X_data_P, N_Times_P, axis=1)\n",
    "    X_data_M = np.array_split(X_data_M, N_Times_M, axis=1)\n",
    "  \n",
    "    return X_data_M, Y_data_M, X_data_P, Y_data_P, N_Times_M, N_Times_P \n",
    "    "
   ]
  },
  {
   "cell_type": "code",
   "execution_count": 3,
   "metadata": {},
   "outputs": [],
   "source": [
    "'''load files, run the classifier and cross validate with 8 folds.\n",
    "extract the actual and predicted labels.'''\n",
    "\n",
    "dir_path = '../Data/'\n",
    "files = fnmatch.filter(os.listdir(dir_path), '*.mat')\n",
    "accuracy_list = []\n",
    "scores_M = list()\n",
    "scores_M_std = list()\n",
    "scores_P = list()\n",
    "scores_P_std = list()\n",
    "predicted_m = list()\n",
    "label_m = list()\n",
    "\n",
    "predicted_p = list()\n",
    "label_p = list()\n",
    "\n",
    "for file in files: #list of tuples, file names and accuracy for memory and perception\n",
    "  \n",
    "    X_data_M, Y_data_M, X_data_P, Y_data_P, N_Times_M, N_Times_P  = load_time_sliced_data(dir_path  + file)\n",
    "    for i in range(len(X_data_M)):\n",
    "        cross_M, clf_Pred_M = get_cross_val_score(X_data_M[i], Y_data_M, 8) #run classifier and cross validate (8 folds)\n",
    "        t_score_M, p_val_M = stats.ttest_ind(Y_data_M, clf_Pred_M)\n",
    "        predicted_m =  predicted_m  + list(clf_Pred_M)\n",
    "        label_m =  label_m  + list(Y_data_M[:,0])\n",
    "        scores_M.append((file, i,np.mean(cross_M),np.std(cross_M),t_score_M[0], p_val_M[0]))\n",
    "    for i in range(len(X_data_P)):\n",
    "        cross_P, clf_Pred_P = get_cross_val_score(X_data_P[i], Y_data_P, 8) #run classifier and cross validate (8 folds)\n",
    "        t_score_P, p_val_P = stats.ttest_ind(Y_data_P, clf_Pred_P)\n",
    "        predicted_p = predicted_p + list(clf_Pred_P)\n",
    "        label_p = label_p +  list(Y_data_P[:,0])\n",
    "        scores_P.append((file,i, np.mean(cross_P),np.std(cross_P), t_score_P[0], p_val_P[0]))\n",
    "\n",
    "df_m = pd.DataFrame()\n",
    "df_p = pd.DataFrame()\n",
    "df_m['predicted_m'] = predicted_m\n",
    "df_m['label_m'] = label_m\n",
    "df_p['predicted_p'] = predicted_p\n",
    "df_p['label_p'] = label_p\n",
    "df_m.to_csv('../CSV_Files(Outputs)/predicted_label_m_LDA.csv')\n",
    "df_p.to_csv('../CSV_Files(Outputs)/predicted_label_p_LDA.csv')\n",
    "\n"
   ]
  },
  {
   "cell_type": "code",
   "execution_count": 4,
   "metadata": {},
   "outputs": [],
   "source": [
    "#save the output for analysis\n",
    "\n",
    "df_P = pd.DataFrame(scores_P, columns= ['file', 'index', 'accuracy', 'std-dev', 't-test', 'p-val'])\n",
    "df_M = pd.DataFrame(scores_M, columns= ['file', 'index', 'accuracy', 'std-dev', 't-test', 'p-val'])\n",
    "\n",
    "df_P.to_csv('../CSV_Files(Outputs)/perception_LDA_final.csv') \n",
    "df_M.to_csv('../CSV_Files(Outputs)/memory_LDA_final.csv')"
   ]
  },
  {
   "cell_type": "code",
   "execution_count": null,
   "metadata": {},
   "outputs": [],
   "source": []
  }
 ],
 "metadata": {
  "kernelspec": {
   "display_name": "Python 3",
   "language": "python",
   "name": "python3"
  },
  "language_info": {
   "codemirror_mode": {
    "name": "ipython",
    "version": 3
   },
   "file_extension": ".py",
   "mimetype": "text/x-python",
   "name": "python",
   "nbconvert_exporter": "python",
   "pygments_lexer": "ipython3",
   "version": "3.7.1"
  }
 },
 "nbformat": 4,
 "nbformat_minor": 2
}
