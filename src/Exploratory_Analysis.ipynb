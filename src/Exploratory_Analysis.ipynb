{
 "cells": [
  {
   "cell_type": "code",
   "execution_count": 1,
   "metadata": {},
   "outputs": [],
   "source": [
    "import scipy.io as sio\n",
    "from sklearn import svm\n",
    "import numpy as np\n",
    "from sklearn.model_selection import KFold, cross_val_score\n",
    "from sklearn.model_selection import train_test_split\n",
    "from sklearn import metrics\n",
    "import os, fnmatch\n",
    "import pandas as pd\n",
    "import matplotlib.pyplot as plt "
   ]
  },
  {
   "cell_type": "code",
   "execution_count": 2,
   "metadata": {},
   "outputs": [],
   "source": [
    "#function to load the files containing the EEG data\n",
    "\n",
    "def load_data(file_name):\n",
    "    data = sio.loadmat(file_name)\n",
    "    X_data_M = data['dataMatM']\n",
    "    Y_data_M = data['simVecM']\n",
    "    X_data_P = data['dataMatP']\n",
    "    Y_data_P = data['simVecP']\n",
    "    \n",
    "    return X_data_M, Y_data_M, X_data_P, Y_data_P"
   ]
  },
  {
   "cell_type": "code",
   "execution_count": 3,
   "metadata": {},
   "outputs": [],
   "source": [
    "#load all the files for each participant and extract the dimensions\n",
    "\n",
    "files = fnmatch.filter(os.listdir('.'), '*.mat')\n",
    "dimensions = []\n",
    "for file in files:\n",
    "    X_data_M, Y_data_M, X_data_P, Y_data_P = load_data(file)\n",
    "    dimensions.append((file, X_data_M.shape[0], X_data_P.shape[0]))"
   ]
  },
  {
   "cell_type": "code",
   "execution_count": 4,
   "metadata": {},
   "outputs": [],
   "source": [
    "#dimensionality for each participant in both the memory and perceptual tasks\n",
    "\n",
    "df = pd.DataFrame(dimensions, columns = ['File', 'Memory', 'Perception']) "
   ]
  },
  {
   "cell_type": "code",
   "execution_count": null,
   "metadata": {},
   "outputs": [],
   "source": []
  }
 ],
 "metadata": {
  "kernelspec": {
   "display_name": "Python 3",
   "language": "python",
   "name": "python3"
  },
  "language_info": {
   "codemirror_mode": {
    "name": "ipython",
    "version": 3
   },
   "file_extension": ".py",
   "mimetype": "text/x-python",
   "name": "python",
   "nbconvert_exporter": "python",
   "pygments_lexer": "ipython3",
   "version": "3.7.1"
  }
 },
 "nbformat": 4,
 "nbformat_minor": 2
}
